{
 "cells": [
  {
   "cell_type": "markdown",
   "id": "86586143",
   "metadata": {},
   "source": [
    "# Usage Example\n",
    "\n",
    "This notebook illustrates how to use this repository in different ways.\n",
    "- To quickly test the code, a fake dataset has been created in the folder **BACI_HS12_V202501_test**. It is based on the real BACI dataset but has been reduced in size. We will use this fake dataset for demonstration in this notebook.\n"
   ]
  },
  {
   "cell_type": "markdown",
   "id": "942eef6c",
   "metadata": {},
   "source": [
    "## Preparation"
   ]
  },
  {
   "cell_type": "markdown",
   "id": "32112d9c",
   "metadata": {},
   "source": [
    "Before using the library, several preparation need to be done. "
   ]
  },
  {
   "cell_type": "markdown",
   "id": "981380da",
   "metadata": {},
   "source": [
    "1. Download and prepare the BACI dataset required for your project.\n",
    "  \n",
    "    - Open the official website: [BACI](https://www.cepii.fr/CEPII/en/bdd_modele/bdd_modele_item.asp?id=37)\n",
    "    - In the \"DOWNLOAD\" section, there are dataset with different time ranges, for instance \"HS92 (1995-2023)\", click it, it will download automatically (The download might take a while).\n",
    "    - Move the dataset into the repository folder. (The same directory as the fake dataset, which is \".../Revealed-Comparative-Advantage-Calculator\")\n",
    "    - Unzip your downloaded dataset."
   ]
  },
  {
   "cell_type": "markdown",
   "id": "1ccb7ff4",
   "metadata": {},
   "source": [
    "2. Using `pip` to install this library.  \n",
    "- Reminder: this command only needs to be run once. Once you have sucessfully installed, you will always have the library in your current environment."
   ]
  },
  {
   "cell_type": "code",
   "execution_count": 1,
   "id": "f42817d3",
   "metadata": {},
   "outputs": [],
   "source": [
    "# ! pip install rca_batch_calc  # Uncomment this line if you need to install the library."
   ]
  },
  {
   "cell_type": "markdown",
   "id": "970ac8c6",
   "metadata": {},
   "source": [
    "3. Import **rca_batch_calc** library along with other required libraries. \n",
    "- Reminder: each time you restart the kernel, you need to import the library and create the class instances again. (This means run the step 3 and step 4 again before running other cells)"
   ]
  },
  {
   "cell_type": "code",
   "execution_count": 2,
   "id": "54b0a950",
   "metadata": {},
   "outputs": [],
   "source": [
    "from rca_batch_calc.parallel_calc import Parallel_Calculator\n",
    "from rca_batch_calc.data_extract import DataExtract\n",
    "\n",
    "from functools import partial\n",
    "from concurrent.futures import ThreadPoolExecutor, as_completed\n",
    "import pandas as pd\n",
    "import os"
   ]
  },
  {
   "cell_type": "markdown",
   "id": "fc11aab5",
   "metadata": {},
   "source": [
    "4. Create instances of `Parallel_Calculator` and `DataExtract` class. \n",
    "- `Parallel_Calculator`: is used to calculate RCA in parallel.\n",
    "- `DataExtract`: is used to filter the required product from BACI dataset."
   ]
  },
  {
   "cell_type": "code",
   "execution_count": 3,
   "id": "cf52b981",
   "metadata": {},
   "outputs": [],
   "source": [
    "parallel = Parallel_Calculator()\n",
    "extractor = DataExtract()"
   ]
  },
  {
   "cell_type": "markdown",
   "id": "3be8b55d",
   "metadata": {},
   "source": [
    "## Product filter"
   ]
  },
  {
   "cell_type": "markdown",
   "id": "35267b21",
   "metadata": {},
   "source": [
    "Because the BACI dataset includes trading data for 5000 products, it's difficult to visualize it in EXCEL, let alone operate on the data. Extract the targeted products is easier for further manipulate.  \n",
    "  \n",
    "So, let's do it."
   ]
  },
  {
   "cell_type": "markdown",
   "id": "987d1b32",
   "metadata": {},
   "source": [
    "1. You need to find the codes of the products you want to do experiments on, and then define them as constants in the code.  \n",
    "(If you don't know the product code, please check the comparison table. It's included in the dataset, called: **product_codes_HS12_V202501.csv**.)\n",
    "- Option 1: Define them directly in this notebook, it's convinent and easy to use.\n",
    "- Option 2: Define them in `constants.py`, it's easier to manage and modify if you have many constants, good for unified management and modification.\n",
    "\n",
    "    In this notebook, I define all the constants in [constants.py](./constants.py) (Click the name, you can direct to the script). The meaning of each constant and what you should assign to the variable is illustrated within the script. It's located in the same directory as this notebook.  "
   ]
  },
  {
   "cell_type": "code",
   "execution_count": 4,
   "id": "44783fac",
   "metadata": {},
   "outputs": [
    {
     "name": "stdout",
     "output_type": "stream",
     "text": [
      "[121221, 121229]\n"
     ]
    }
   ],
   "source": [
    "# Let's import the products and all other constants.\n",
    "from constants import *\n",
    "\n",
    "# Here we print the product code to verify that we have the correct one. (You call the constant by directly using the variable name defined in the constants.py)\n",
    "print(PROD)"
   ]
  },
  {
   "cell_type": "markdown",
   "id": "4b6eebad",
   "metadata": {},
   "source": [
    "2. Here, we iterate over all the BACI data files and filter out the required products."
   ]
  },
  {
   "cell_type": "code",
   "execution_count": 5,
   "id": "7cb89dd8",
   "metadata": {},
   "outputs": [
    {
     "name": "stdout",
     "output_type": "stream",
     "text": [
      "Extracting file: BACI_HS12_Y2014_V202501.csv\n",
      "Extracting finished: BACI_HS12_Y2014_V202501.csv\n",
      "Extracting file: BACI_HS12_Y2012_V202501.csv\n",
      "Extracting finished: BACI_HS12_Y2012_V202501.csv\n",
      "Extracting file: BACI_HS12_Y2013_V202501.csv\n",
      "Extracting finished: BACI_HS12_Y2013_V202501.csv\n"
     ]
    }
   ],
   "source": [
    "product_data = extractor.find_product(FOLDER_PATH, PROD)"
   ]
  },
  {
   "cell_type": "markdown",
   "id": "2580145c",
   "metadata": {},
   "source": [
    "3. Observe the extracted data."
   ]
  },
  {
   "cell_type": "code",
   "execution_count": 6,
   "id": "feecda57",
   "metadata": {},
   "outputs": [
    {
     "data": {
      "text/html": [
       "<div>\n",
       "<style scoped>\n",
       "    .dataframe tbody tr th:only-of-type {\n",
       "        vertical-align: middle;\n",
       "    }\n",
       "\n",
       "    .dataframe tbody tr th {\n",
       "        vertical-align: top;\n",
       "    }\n",
       "\n",
       "    .dataframe thead th {\n",
       "        text-align: right;\n",
       "    }\n",
       "</style>\n",
       "<table border=\"1\" class=\"dataframe\">\n",
       "  <thead>\n",
       "    <tr style=\"text-align: right;\">\n",
       "      <th></th>\n",
       "      <th>t</th>\n",
       "      <th>i</th>\n",
       "      <th>j</th>\n",
       "      <th>k</th>\n",
       "      <th>v</th>\n",
       "      <th>q</th>\n",
       "    </tr>\n",
       "  </thead>\n",
       "  <tbody>\n",
       "    <tr>\n",
       "      <th>0</th>\n",
       "      <td>2014</td>\n",
       "      <td>32</td>\n",
       "      <td>36</td>\n",
       "      <td>121221</td>\n",
       "      <td>379.273</td>\n",
       "      <td>31.615</td>\n",
       "    </tr>\n",
       "    <tr>\n",
       "      <th>1</th>\n",
       "      <td>2014</td>\n",
       "      <td>32</td>\n",
       "      <td>36</td>\n",
       "      <td>121229</td>\n",
       "      <td>348.991</td>\n",
       "      <td>30.081</td>\n",
       "    </tr>\n",
       "    <tr>\n",
       "      <th>2</th>\n",
       "      <td>2014</td>\n",
       "      <td>32</td>\n",
       "      <td>70</td>\n",
       "      <td>121221</td>\n",
       "      <td>0.045</td>\n",
       "      <td>0.001</td>\n",
       "    </tr>\n",
       "    <tr>\n",
       "      <th>3</th>\n",
       "      <td>2014</td>\n",
       "      <td>32</td>\n",
       "      <td>156</td>\n",
       "      <td>121229</td>\n",
       "      <td>116.567</td>\n",
       "      <td>70.003</td>\n",
       "    </tr>\n",
       "    <tr>\n",
       "      <th>4</th>\n",
       "      <td>2014</td>\n",
       "      <td>32</td>\n",
       "      <td>218</td>\n",
       "      <td>121221</td>\n",
       "      <td>46.287</td>\n",
       "      <td>10.000</td>\n",
       "    </tr>\n",
       "  </tbody>\n",
       "</table>\n",
       "</div>"
      ],
      "text/plain": [
       "      t   i    j       k        v       q\n",
       "0  2014  32   36  121221  379.273  31.615\n",
       "1  2014  32   36  121229  348.991  30.081\n",
       "2  2014  32   70  121221    0.045   0.001\n",
       "3  2014  32  156  121229  116.567  70.003\n",
       "4  2014  32  218  121221   46.287  10.000"
      ]
     },
     "execution_count": 6,
     "metadata": {},
     "output_type": "execute_result"
    }
   ],
   "source": [
    "product_data.head()"
   ]
  },
  {
   "cell_type": "markdown",
   "id": "7a1e09c9",
   "metadata": {},
   "source": [
    "4. Save the output in the BACI dataset folder as **output.csv**."
   ]
  },
  {
   "cell_type": "code",
   "execution_count": 7,
   "id": "32814a2d",
   "metadata": {},
   "outputs": [
    {
     "name": "stdout",
     "output_type": "stream",
     "text": [
      "Extracted data saved.\n",
      "---------------------\n"
     ]
    }
   ],
   "source": [
    "extractor.save_csv(product_data, FOLDER_PATH)"
   ]
  },
  {
   "cell_type": "markdown",
   "id": "b57d0c1a",
   "metadata": {},
   "source": [
    "5. 🎁 **Bonus**: To help with readability, `convert_countries` function is provided in the library to convert country codes into country names.  \n",
    "- The inputs to the function are the paths to the two files: the country code file and the comparison table file. (follow the order)"
   ]
  },
  {
   "cell_type": "code",
   "execution_count": 8,
   "id": "e13b8139",
   "metadata": {},
   "outputs": [],
   "source": [
    "extractor.convert_countries(f\"{FOLDER_PATH}/output.csv\", f\"{FOLDER_PATH}/country_codes_V202501.csv\") # check your dataset folder, the converted file called: \"output_countries.csv\""
   ]
  },
  {
   "cell_type": "markdown",
   "id": "e8b2b76c",
   "metadata": {},
   "source": [
    "## RCA calculator"
   ]
  },
  {
   "cell_type": "markdown",
   "id": "ad841677",
   "metadata": {},
   "source": [
    "The strategy is to first calculate each component ($X^i_j$, $X^i_n$, $X^w_j$, $X^w_n$) of the formula, saving the results for each component into separate files. Then using these files as inputs to calculate the rca results ($RCA^i_j = \\left( \\frac{X^i_j}{X^i_n} \\middle/ \\frac{X^w_j}{X^w_n} \\right)$).\n",
    "- Implementation Logic: \n",
    "  - All the components use a similar way for calculation. We use the `partial` function from Python‘s standard library `functools` to fix some arguments of a function and generate a new function. So that we can pass different number of arguments for different component calculations to the function `parallel_run` to implement thread concurrency. `parallel_run` function will leverage the power of the computer to speed up the data processing.  \n",
    "(Which basically means we use the `partial` function to help implement `parallel_run` function to process multiple files at the same time.)"
   ]
  },
  {
   "cell_type": "markdown",
   "id": "9d4ba03f",
   "metadata": {},
   "source": [
    "1. Define the constants, all the constants in the `constants.py` file need to be defined to calculate RCA.  \n",
    "(If you don't know the product code, please check the comparison table. It's included in the dataset, called: **product_codes_HS12_V202501.csv**.)\n",
    "    - Option 1: Define them directly in this notebook, it's convinent and easy to use.\n",
    "    - Option 2: Define them in `constants.py`, it's easier to manage and modify if you have many constants, good for unified management and modification.\n",
    "\n",
    "    In this notebook, I define all the constants in [constants.py](./constants.py) (Click the name to go directly to the script). The meaning of each constant and what values to assign to the variables are explained within the script. It's located in the same directory as this notebook.  "
   ]
  },
  {
   "cell_type": "markdown",
   "id": "3622eaad",
   "metadata": {},
   "source": [
    "2. Calculate \"xij\" values for all files in the BACI_HS12_V202501_test folder.  \n",
    "(According to the RCA formula, \"xij\" represent export value of commodity i from a country to country j.)"
   ]
  },
  {
   "cell_type": "code",
   "execution_count": 9,
   "id": "43f89041",
   "metadata": {},
   "outputs": [
    {
     "name": "stdout",
     "output_type": "stream",
     "text": [
      "Processing BACI_HS12_Y2014_V202501.csv in thread: 123145549996032\n",
      "Processing BACI_HS12_Y2012_V202501.csv in thread: 123145566785536\n",
      "BACI_HS12_Y2014_V202501.csv is done.\n",
      "Processing BACI_HS12_Y2013_V202501.csv in thread: 123145549996032\n",
      "BACI_HS12_Y2012_V202501.csv is done.\n",
      "BACI_HS12_Y2013_V202501.csv is done.\n",
      "Total execution time: 0.02 seconds\n"
     ]
    }
   ],
   "source": [
    "xij_process_file = partial(parallel.run_xij, prod=PROD)\n",
    "parallel.parallel_run(FOLDER_PATH, xij_process_file, \"xij\")"
   ]
  },
  {
   "cell_type": "markdown",
   "id": "cb469079",
   "metadata": {},
   "source": [
    "3. Calculate \"xin\" values for all files in the BACI_HS12_V202501_test folder.  \n",
    "(According to the RCA formula, \"xin\" represent total export value of commodity i from all exporting countries to country j.)"
   ]
  },
  {
   "cell_type": "code",
   "execution_count": 10,
   "id": "b4478de6",
   "metadata": {},
   "outputs": [
    {
     "name": "stdout",
     "output_type": "stream",
     "text": [
      "Processing BACI_HS12_Y2014_V202501.csv in thread: 123145549996032\n",
      "Processing BACI_HS12_Y2012_V202501.csv in thread: 123145566785536\n",
      "Processing BACI_HS12_Y2013_V202501.csv in thread: 123145583575040\n",
      "BACI_HS12_Y2012_V202501.csv is done.\n",
      "BACI_HS12_Y2013_V202501.csv is done.\n",
      "BACI_HS12_Y2014_V202501.csv is done.\n",
      "Total execution time: 0.68 seconds\n"
     ]
    }
   ],
   "source": [
    "xin_process_file = partial(parallel.run_xin, val=VAL, prod=PROD)\n",
    "parallel.parallel_run(FOLDER_PATH, xin_process_file, \"xin\", XIN_NAMES)"
   ]
  },
  {
   "cell_type": "markdown",
   "id": "6b24360b",
   "metadata": {},
   "source": [
    "4. Calculate \"xwj\" values for all files in the BACI_HS12_V202501_test folder.  \n",
    "(According to the RCA formula, \"xwj\" represent total export value of all commodities from a country to country j.)"
   ]
  },
  {
   "cell_type": "code",
   "execution_count": 11,
   "id": "2f36b443",
   "metadata": {},
   "outputs": [
    {
     "name": "stdout",
     "output_type": "stream",
     "text": [
      "Processing BACI_HS12_Y2014_V202501.csv in thread: 123145549996032\n",
      "Processing BACI_HS12_Y2012_V202501.csv in thread: 123145566785536\n",
      "Processing BACI_HS12_Y2013_V202501.csv in thread: 123145583575040\n",
      "Handling exporter 4.\n",
      "Handling exporter 32.\n",
      "Handling exporter 32.\n",
      "Handling exporter 100.\n",
      "Handling exporter 84.\n",
      "Handling exporter 108.\n",
      "BACI_HS12_Y2012_V202501.csv is done.\n",
      "BACI_HS12_Y2014_V202501.csv is done.\n",
      "BACI_HS12_Y2013_V202501.csv is done.\n",
      "Total execution time: 5.47 seconds\n"
     ]
    }
   ],
   "source": [
    "xwj_process_file = partial(parallel.run_xwj, val=VAL)\n",
    "parallel.parallel_run(FOLDER_PATH, xwj_process_file, \"xwj\", XWJ_NAMES)"
   ]
  },
  {
   "cell_type": "markdown",
   "id": "39f69e6c",
   "metadata": {},
   "source": [
    "5. Calculate \"xwn\" values for all files in the BACI_HS12_V202501_test folder.  \n",
    "(According to the RCA formula, \"xwn\" represent total export value of all commodities from all exporting to country j.)"
   ]
  },
  {
   "cell_type": "code",
   "execution_count": 12,
   "id": "ddc94611",
   "metadata": {},
   "outputs": [
    {
     "name": "stdout",
     "output_type": "stream",
     "text": [
      "Processing BACI_HS12_Y2014_V202501.csv in thread: 123145549996032Processing BACI_HS12_Y2012_V202501.csv in thread: 123145566785536\n",
      "Processing BACI_HS12_Y2013_V202501.csv in thread: 123145583575040\n",
      "\n",
      "BACI_HS12_Y2012_V202501.csv is done.\n",
      "BACI_HS12_Y2014_V202501.csv is done.\n",
      "BACI_HS12_Y2013_V202501.csv is done.\n",
      "Total execution time: 0.34 seconds\n"
     ]
    }
   ],
   "source": [
    "xwn_process_file = partial(parallel.run_xwn, val=VAL)  \n",
    "parallel.parallel_run(FOLDER_PATH, xwn_process_file, \"xwn\", XWN_NAMES)"
   ]
  },
  {
   "cell_type": "markdown",
   "id": "e42efc5b",
   "metadata": {},
   "source": [
    "6. Calculate RCA values for all dataset files in the BACI_HS12_V202501_test folder, by formula: $RCA^i_j = \\left( \\frac{X^i_j}{X^i_n} \\middle/ \\frac{X^w_j}{X^w_n} \\right)$.  \n",
    "The output will be in the same folder as this notebook."
   ]
  },
  {
   "cell_type": "code",
   "execution_count": 13,
   "id": "a3abb26b",
   "metadata": {},
   "outputs": [
    {
     "name": "stdout",
     "output_type": "stream",
     "text": [
      "Processing in thread: 123145549996032\n",
      "Processing in thread: 123145566785536\n"
     ]
    }
   ],
   "source": [
    "# Here, we create a list, including all intermediate files. \n",
    "# Note: don't change the file order in the list.\n",
    "file_path_list = [\n",
    "    os.path.join(os.getcwd(), \"xij.csv\"),\n",
    "    os.path.join(os.getcwd(), \"xin.csv\"),\n",
    "    os.path.join(os.getcwd(), \"xwj.csv\"),\n",
    "    os.path.join(os.getcwd(), \"xwn.csv\")\n",
    "]\n",
    "\n",
    "# Here, we use the python module \"concurrent\" to calculate RCA in parallel.\n",
    "max_workers = os.cpu_count() * 2 if os.cpu_count() else 4\n",
    "with ThreadPoolExecutor(max_workers=max_workers) as executor:\n",
    "    futures = {executor.submit(parallel.run_rca, val, file_path_list): val for val in VAL}\n",
    "\n",
    "    dfs = [pd.read_csv(file_path_list[0], dtype={'Year': int, 'Importer': int, 'Exporter': int}).iloc[:, :4]]\n",
    "    for future in as_completed(futures):\n",
    "        df = future.result()\n",
    "        dfs.append(df)\n",
    "\n",
    "final_df = pd.concat(dfs, axis=1)\n",
    "final_df.to_csv(\"rca.csv\", index=False)"
   ]
  },
  {
   "cell_type": "markdown",
   "id": "fab18a6f",
   "metadata": {},
   "source": [
    "7. Let's convert country codes into country names for our RCA results."
   ]
  },
  {
   "cell_type": "code",
   "execution_count": 14,
   "id": "c9884e4c",
   "metadata": {},
   "outputs": [],
   "source": [
    "extractor.convert_countries(\"./rca.csv\", f\"{FOLDER_PATH}/country_codes_V202501.csv\")"
   ]
  }
 ],
 "metadata": {
  "kernelspec": {
   "display_name": "bw25",
   "language": "python",
   "name": "python3"
  },
  "language_info": {
   "codemirror_mode": {
    "name": "ipython",
    "version": 3
   },
   "file_extension": ".py",
   "mimetype": "text/x-python",
   "name": "python",
   "nbconvert_exporter": "python",
   "pygments_lexer": "ipython3",
   "version": "3.12.9"
  }
 },
 "nbformat": 4,
 "nbformat_minor": 5
}
