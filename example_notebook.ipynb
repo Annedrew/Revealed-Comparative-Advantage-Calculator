{
 "cells": [
  {
   "cell_type": "markdown",
   "id": "86586143",
   "metadata": {},
   "source": [
    "# Example\n",
    "\n",
    "This notebook illustrate how to calculate RCA in parallel using this repository."
   ]
  },
  {
   "cell_type": "code",
   "execution_count": 1,
   "id": "54b0a950",
   "metadata": {},
   "outputs": [],
   "source": [
    "from src.parallel_calc import *\n",
    "from src.rca_calc import *\n",
    "from constants import *\n",
    "from functools import partial"
   ]
  },
  {
   "cell_type": "markdown",
   "id": "fc11aab5",
   "metadata": {},
   "source": [
    "Prepare: Create an instance of `Parallel_Calculator` class."
   ]
  },
  {
   "cell_type": "code",
   "execution_count": 2,
   "id": "cf52b981",
   "metadata": {},
   "outputs": [],
   "source": [
    "parallel = Parallel_Calculator()"
   ]
  },
  {
   "cell_type": "markdown",
   "id": "3622eaad",
   "metadata": {},
   "source": [
    "1. Calculate \"xij\" values for all files"
   ]
  },
  {
   "cell_type": "code",
   "execution_count": 3,
   "id": "43f89041",
   "metadata": {},
   "outputs": [
    {
     "name": "stdout",
     "output_type": "stream",
     "text": [
      "Processing BACI_HS12_Y2014_V202501.csv in thread: 123145684119552\n",
      "Processing BACI_HS12_Y2012_V202501.csv in thread: 123145700909056\n",
      "Processing BACI_HS12_Y2013_V202501.csv in thread: 123145717698560\n",
      "BACI_HS12_Y2014_V202501.csv is done.\n",
      "BACI_HS12_Y2013_V202501.csv is done.\n",
      "BACI_HS12_Y2012_V202501.csv is done.\n",
      "Total execution time: 0.04 seconds\n"
     ]
    }
   ],
   "source": [
    "xij_process_file = partial(parallel.run_xij, prod=PROD)\n",
    "parallel.parallel_run(FOLDER_PATH, xij_process_file, \"xij\")"
   ]
  },
  {
   "cell_type": "markdown",
   "id": "cb469079",
   "metadata": {},
   "source": [
    "2. Calculate \"xin\" values for all files"
   ]
  },
  {
   "cell_type": "code",
   "execution_count": 4,
   "id": "b4478de6",
   "metadata": {},
   "outputs": [
    {
     "name": "stdout",
     "output_type": "stream",
     "text": [
      "Processing BACI_HS12_Y2014_V202501.csv in thread: 123145684119552Processing BACI_HS12_Y2012_V202501.csv in thread: 123145700909056\n",
      "\n",
      "Processing BACI_HS12_Y2013_V202501.csv in thread: 123145717698560\n",
      "BACI_HS12_Y2012_V202501.csv is done.\n",
      "BACI_HS12_Y2013_V202501.csv is done.\n",
      "BACI_HS12_Y2014_V202501.csv is done.\n",
      "Total execution time: 1.04 seconds\n"
     ]
    }
   ],
   "source": [
    "xin_process_file = partial(parallel.run_xin, val=VAL, prod=PROD)\n",
    "parallel.parallel_run(FOLDER_PATH, xin_process_file, \"xin\", XIN_NAMES)"
   ]
  },
  {
   "cell_type": "markdown",
   "id": "6b24360b",
   "metadata": {},
   "source": [
    "3. Calculate \"xwj\" values for all files"
   ]
  },
  {
   "cell_type": "code",
   "execution_count": 5,
   "id": "2f36b443",
   "metadata": {},
   "outputs": [
    {
     "name": "stdout",
     "output_type": "stream",
     "text": [
      "Processing BACI_HS12_Y2014_V202501.csv in thread: 123145684119552\n",
      "Processing BACI_HS12_Y2012_V202501.csv in thread: 123145700909056\n",
      "Processing BACI_HS12_Y2013_V202501.csv in thread: 123145717698560\n",
      "Handling 32 exporter.\n",
      "Handling 32 exporter.\n",
      "Handling 4 exporter.\n",
      "Handling 36 exporter.Handling 36 exporter.\n",
      "\n",
      "Handling 8 exporter.\n",
      "Handling 32 exporter.Handling 40 exporter.\n",
      "\n",
      "Handling 40 exporter.\n",
      "Handling 50 exporter.\n",
      "Handling 36 exporter.\n",
      "Handling 50 exporter.\n",
      "Handling 56 exporter.\n",
      "Handling 40 exporter.\n",
      "Handling 56 exporter.\n",
      "Handling 50 exporter.\n",
      "Handling 72 exporter.\n",
      "Handling 60 exporter.\n",
      "Handling 56 exporter.\n",
      "Handling 76 exporter.\n",
      "Handling 68 exporter.\n",
      "Handling 60 exporter.\n",
      "Handling 90 exporter.\n",
      "Handling 70 exporter.\n",
      "Handling 76 exporter.\n",
      "Handling 100 exporter.\n",
      "Handling 72 exporter.\n",
      "Handling 90 exporter.\n",
      "Handling 100 exporter.\n",
      "Handling 104 exporter.\n",
      "Handling 76 exporter.\n",
      "Handling 104 exporter.\n",
      "Handling 112 exporter.\n",
      "Handling 84 exporter.\n",
      "Handling 108 exporter.\n",
      "Handling 116 exporter.\n",
      "Handling 90 exporter.\n",
      "Handling 112 exporter.\n",
      "Handling 124 exporter.\n",
      "BACI_HS12_Y2012_V202501.csv is done.\n",
      "Handling 100 exporter.\n",
      "Handling 120 exporter.\n",
      "Handling 124 exporter.\n",
      "BACI_HS12_Y2014_V202501.csv is done.\n",
      "Handling 104 exporter.\n",
      "Handling 108 exporter.\n",
      "Handling 112 exporter.\n",
      "Handling 116 exporter.\n",
      "Handling 120 exporter.\n",
      "Handling 124 exporter.\n",
      "BACI_HS12_Y2013_V202501.csv is done.\n",
      "Total execution time: 6.08 seconds\n"
     ]
    }
   ],
   "source": [
    "xwj_process_file = partial(parallel.run_xwj, val=VAL)\n",
    "parallel.parallel_run(FOLDER_PATH, xwj_process_file, \"xwj\", XWJ_NAMES)"
   ]
  },
  {
   "cell_type": "markdown",
   "id": "39f69e6c",
   "metadata": {},
   "source": [
    "4. Calculate \"xwn\" values for all files"
   ]
  },
  {
   "cell_type": "code",
   "execution_count": 6,
   "id": "ddc94611",
   "metadata": {},
   "outputs": [
    {
     "name": "stdout",
     "output_type": "stream",
     "text": [
      "Processing BACI_HS12_Y2014_V202501.csv in thread: 123145684119552Processing BACI_HS12_Y2012_V202501.csv in thread: 123145700909056\n",
      "\n",
      "Processing BACI_HS12_Y2013_V202501.csv in thread: 123145717698560\n",
      "BACI_HS12_Y2013_V202501.csv is done.\n",
      "BACI_HS12_Y2014_V202501.csv is done.\n",
      "BACI_HS12_Y2012_V202501.csv is done.\n",
      "Total execution time: 0.38 seconds\n"
     ]
    }
   ],
   "source": [
    "xwn_process_file = partial(parallel.run_xwn, val=VAL)\n",
    "parallel.parallel_run(FOLDER_PATH, xwn_process_file, \"xwn\", XWN_NAMES)"
   ]
  },
  {
   "cell_type": "markdown",
   "id": "e42efc5b",
   "metadata": {},
   "source": [
    "5. Calculate RCA values for all files"
   ]
  },
  {
   "cell_type": "code",
   "execution_count": null,
   "id": "a3abb26b",
   "metadata": {},
   "outputs": [
    {
     "name": "stdout",
     "output_type": "stream",
     "text": [
      "Processing in thread: 123145684119552\n",
      "Processing in thread: 123145700909056\n"
     ]
    },
    {
     "ename": "FileNotFoundError",
     "evalue": "[Errno 2] No such file or directory: '/Users/bp45th/Documents/github/Revealed-Comparative-Advantage-Calculator/results_new/xij.csv'",
     "output_type": "error",
     "traceback": [
      "\u001b[31m---------------------------------------------------------------------------\u001b[39m",
      "\u001b[31mFileNotFoundError\u001b[39m                         Traceback (most recent call last)",
      "\u001b[36mCell\u001b[39m\u001b[36m \u001b[39m\u001b[32mIn[7]\u001b[39m\u001b[32m, line 10\u001b[39m\n\u001b[32m      7\u001b[39m \u001b[38;5;28;01mwith\u001b[39;00m ThreadPoolExecutor(max_workers=max_workers) \u001b[38;5;28;01mas\u001b[39;00m executor:\n\u001b[32m      8\u001b[39m     futures = {executor.submit(parallel.run_rca, val, file_path_list): val \u001b[38;5;28;01mfor\u001b[39;00m val \u001b[38;5;129;01min\u001b[39;00m VAL}\n\u001b[32m---> \u001b[39m\u001b[32m10\u001b[39m     dfs = [\u001b[43mpd\u001b[49m\u001b[43m.\u001b[49m\u001b[43mread_csv\u001b[49m\u001b[43m(\u001b[49m\u001b[33;43mf\u001b[39;49m\u001b[33;43m\"\u001b[39;49m\u001b[38;5;132;43;01m{\u001b[39;49;00m\u001b[43mos\u001b[49m\u001b[43m.\u001b[49m\u001b[43mgetcwd\u001b[49m\u001b[43m(\u001b[49m\u001b[43m)\u001b[49m\u001b[38;5;132;43;01m}\u001b[39;49;00m\u001b[33;43m/results_new/xij.csv\u001b[39;49m\u001b[33;43m\"\u001b[39;49m\u001b[43m,\u001b[49m\u001b[43m \u001b[49m\u001b[43mdtype\u001b[49m\u001b[43m=\u001b[49m\u001b[43m{\u001b[49m\u001b[33;43m'\u001b[39;49m\u001b[33;43mYear\u001b[39;49m\u001b[33;43m'\u001b[39;49m\u001b[43m:\u001b[49m\u001b[43m \u001b[49m\u001b[38;5;28;43mint\u001b[39;49m\u001b[43m,\u001b[49m\u001b[43m \u001b[49m\u001b[33;43m'\u001b[39;49m\u001b[33;43mImporter\u001b[39;49m\u001b[33;43m'\u001b[39;49m\u001b[43m:\u001b[49m\u001b[43m \u001b[49m\u001b[38;5;28;43mint\u001b[39;49m\u001b[43m,\u001b[49m\u001b[43m \u001b[49m\u001b[33;43m'\u001b[39;49m\u001b[33;43mExporter\u001b[39;49m\u001b[33;43m'\u001b[39;49m\u001b[43m:\u001b[49m\u001b[43m \u001b[49m\u001b[38;5;28;43mint\u001b[39;49m\u001b[43m}\u001b[49m\u001b[43m)\u001b[49m.iloc[:, :\u001b[32m4\u001b[39m]]\n\u001b[32m     11\u001b[39m     \u001b[38;5;28;01mfor\u001b[39;00m future \u001b[38;5;129;01min\u001b[39;00m as_completed(futures):\n\u001b[32m     12\u001b[39m         df = future.result()\n",
      "\u001b[36mFile \u001b[39m\u001b[32m/opt/miniconda3/envs/bw25/lib/python3.12/site-packages/pandas/io/parsers/readers.py:1026\u001b[39m, in \u001b[36mread_csv\u001b[39m\u001b[34m(filepath_or_buffer, sep, delimiter, header, names, index_col, usecols, dtype, engine, converters, true_values, false_values, skipinitialspace, skiprows, skipfooter, nrows, na_values, keep_default_na, na_filter, verbose, skip_blank_lines, parse_dates, infer_datetime_format, keep_date_col, date_parser, date_format, dayfirst, cache_dates, iterator, chunksize, compression, thousands, decimal, lineterminator, quotechar, quoting, doublequote, escapechar, comment, encoding, encoding_errors, dialect, on_bad_lines, delim_whitespace, low_memory, memory_map, float_precision, storage_options, dtype_backend)\u001b[39m\n\u001b[32m   1013\u001b[39m kwds_defaults = _refine_defaults_read(\n\u001b[32m   1014\u001b[39m     dialect,\n\u001b[32m   1015\u001b[39m     delimiter,\n\u001b[32m   (...)\u001b[39m\u001b[32m   1022\u001b[39m     dtype_backend=dtype_backend,\n\u001b[32m   1023\u001b[39m )\n\u001b[32m   1024\u001b[39m kwds.update(kwds_defaults)\n\u001b[32m-> \u001b[39m\u001b[32m1026\u001b[39m \u001b[38;5;28;01mreturn\u001b[39;00m \u001b[43m_read\u001b[49m\u001b[43m(\u001b[49m\u001b[43mfilepath_or_buffer\u001b[49m\u001b[43m,\u001b[49m\u001b[43m \u001b[49m\u001b[43mkwds\u001b[49m\u001b[43m)\u001b[49m\n",
      "\u001b[36mFile \u001b[39m\u001b[32m/opt/miniconda3/envs/bw25/lib/python3.12/site-packages/pandas/io/parsers/readers.py:620\u001b[39m, in \u001b[36m_read\u001b[39m\u001b[34m(filepath_or_buffer, kwds)\u001b[39m\n\u001b[32m    617\u001b[39m _validate_names(kwds.get(\u001b[33m\"\u001b[39m\u001b[33mnames\u001b[39m\u001b[33m\"\u001b[39m, \u001b[38;5;28;01mNone\u001b[39;00m))\n\u001b[32m    619\u001b[39m \u001b[38;5;66;03m# Create the parser.\u001b[39;00m\n\u001b[32m--> \u001b[39m\u001b[32m620\u001b[39m parser = \u001b[43mTextFileReader\u001b[49m\u001b[43m(\u001b[49m\u001b[43mfilepath_or_buffer\u001b[49m\u001b[43m,\u001b[49m\u001b[43m \u001b[49m\u001b[43m*\u001b[49m\u001b[43m*\u001b[49m\u001b[43mkwds\u001b[49m\u001b[43m)\u001b[49m\n\u001b[32m    622\u001b[39m \u001b[38;5;28;01mif\u001b[39;00m chunksize \u001b[38;5;129;01mor\u001b[39;00m iterator:\n\u001b[32m    623\u001b[39m     \u001b[38;5;28;01mreturn\u001b[39;00m parser\n",
      "\u001b[36mFile \u001b[39m\u001b[32m/opt/miniconda3/envs/bw25/lib/python3.12/site-packages/pandas/io/parsers/readers.py:1620\u001b[39m, in \u001b[36mTextFileReader.__init__\u001b[39m\u001b[34m(self, f, engine, **kwds)\u001b[39m\n\u001b[32m   1617\u001b[39m     \u001b[38;5;28mself\u001b[39m.options[\u001b[33m\"\u001b[39m\u001b[33mhas_index_names\u001b[39m\u001b[33m\"\u001b[39m] = kwds[\u001b[33m\"\u001b[39m\u001b[33mhas_index_names\u001b[39m\u001b[33m\"\u001b[39m]\n\u001b[32m   1619\u001b[39m \u001b[38;5;28mself\u001b[39m.handles: IOHandles | \u001b[38;5;28;01mNone\u001b[39;00m = \u001b[38;5;28;01mNone\u001b[39;00m\n\u001b[32m-> \u001b[39m\u001b[32m1620\u001b[39m \u001b[38;5;28mself\u001b[39m._engine = \u001b[38;5;28;43mself\u001b[39;49m\u001b[43m.\u001b[49m\u001b[43m_make_engine\u001b[49m\u001b[43m(\u001b[49m\u001b[43mf\u001b[49m\u001b[43m,\u001b[49m\u001b[43m \u001b[49m\u001b[38;5;28;43mself\u001b[39;49m\u001b[43m.\u001b[49m\u001b[43mengine\u001b[49m\u001b[43m)\u001b[49m\n",
      "\u001b[36mFile \u001b[39m\u001b[32m/opt/miniconda3/envs/bw25/lib/python3.12/site-packages/pandas/io/parsers/readers.py:1880\u001b[39m, in \u001b[36mTextFileReader._make_engine\u001b[39m\u001b[34m(self, f, engine)\u001b[39m\n\u001b[32m   1878\u001b[39m     \u001b[38;5;28;01mif\u001b[39;00m \u001b[33m\"\u001b[39m\u001b[33mb\u001b[39m\u001b[33m\"\u001b[39m \u001b[38;5;129;01mnot\u001b[39;00m \u001b[38;5;129;01min\u001b[39;00m mode:\n\u001b[32m   1879\u001b[39m         mode += \u001b[33m\"\u001b[39m\u001b[33mb\u001b[39m\u001b[33m\"\u001b[39m\n\u001b[32m-> \u001b[39m\u001b[32m1880\u001b[39m \u001b[38;5;28mself\u001b[39m.handles = \u001b[43mget_handle\u001b[49m\u001b[43m(\u001b[49m\n\u001b[32m   1881\u001b[39m \u001b[43m    \u001b[49m\u001b[43mf\u001b[49m\u001b[43m,\u001b[49m\n\u001b[32m   1882\u001b[39m \u001b[43m    \u001b[49m\u001b[43mmode\u001b[49m\u001b[43m,\u001b[49m\n\u001b[32m   1883\u001b[39m \u001b[43m    \u001b[49m\u001b[43mencoding\u001b[49m\u001b[43m=\u001b[49m\u001b[38;5;28;43mself\u001b[39;49m\u001b[43m.\u001b[49m\u001b[43moptions\u001b[49m\u001b[43m.\u001b[49m\u001b[43mget\u001b[49m\u001b[43m(\u001b[49m\u001b[33;43m\"\u001b[39;49m\u001b[33;43mencoding\u001b[39;49m\u001b[33;43m\"\u001b[39;49m\u001b[43m,\u001b[49m\u001b[43m \u001b[49m\u001b[38;5;28;43;01mNone\u001b[39;49;00m\u001b[43m)\u001b[49m\u001b[43m,\u001b[49m\n\u001b[32m   1884\u001b[39m \u001b[43m    \u001b[49m\u001b[43mcompression\u001b[49m\u001b[43m=\u001b[49m\u001b[38;5;28;43mself\u001b[39;49m\u001b[43m.\u001b[49m\u001b[43moptions\u001b[49m\u001b[43m.\u001b[49m\u001b[43mget\u001b[49m\u001b[43m(\u001b[49m\u001b[33;43m\"\u001b[39;49m\u001b[33;43mcompression\u001b[39;49m\u001b[33;43m\"\u001b[39;49m\u001b[43m,\u001b[49m\u001b[43m \u001b[49m\u001b[38;5;28;43;01mNone\u001b[39;49;00m\u001b[43m)\u001b[49m\u001b[43m,\u001b[49m\n\u001b[32m   1885\u001b[39m \u001b[43m    \u001b[49m\u001b[43mmemory_map\u001b[49m\u001b[43m=\u001b[49m\u001b[38;5;28;43mself\u001b[39;49m\u001b[43m.\u001b[49m\u001b[43moptions\u001b[49m\u001b[43m.\u001b[49m\u001b[43mget\u001b[49m\u001b[43m(\u001b[49m\u001b[33;43m\"\u001b[39;49m\u001b[33;43mmemory_map\u001b[39;49m\u001b[33;43m\"\u001b[39;49m\u001b[43m,\u001b[49m\u001b[43m \u001b[49m\u001b[38;5;28;43;01mFalse\u001b[39;49;00m\u001b[43m)\u001b[49m\u001b[43m,\u001b[49m\n\u001b[32m   1886\u001b[39m \u001b[43m    \u001b[49m\u001b[43mis_text\u001b[49m\u001b[43m=\u001b[49m\u001b[43mis_text\u001b[49m\u001b[43m,\u001b[49m\n\u001b[32m   1887\u001b[39m \u001b[43m    \u001b[49m\u001b[43merrors\u001b[49m\u001b[43m=\u001b[49m\u001b[38;5;28;43mself\u001b[39;49m\u001b[43m.\u001b[49m\u001b[43moptions\u001b[49m\u001b[43m.\u001b[49m\u001b[43mget\u001b[49m\u001b[43m(\u001b[49m\u001b[33;43m\"\u001b[39;49m\u001b[33;43mencoding_errors\u001b[39;49m\u001b[33;43m\"\u001b[39;49m\u001b[43m,\u001b[49m\u001b[43m \u001b[49m\u001b[33;43m\"\u001b[39;49m\u001b[33;43mstrict\u001b[39;49m\u001b[33;43m\"\u001b[39;49m\u001b[43m)\u001b[49m\u001b[43m,\u001b[49m\n\u001b[32m   1888\u001b[39m \u001b[43m    \u001b[49m\u001b[43mstorage_options\u001b[49m\u001b[43m=\u001b[49m\u001b[38;5;28;43mself\u001b[39;49m\u001b[43m.\u001b[49m\u001b[43moptions\u001b[49m\u001b[43m.\u001b[49m\u001b[43mget\u001b[49m\u001b[43m(\u001b[49m\u001b[33;43m\"\u001b[39;49m\u001b[33;43mstorage_options\u001b[39;49m\u001b[33;43m\"\u001b[39;49m\u001b[43m,\u001b[49m\u001b[43m \u001b[49m\u001b[38;5;28;43;01mNone\u001b[39;49;00m\u001b[43m)\u001b[49m\u001b[43m,\u001b[49m\n\u001b[32m   1889\u001b[39m \u001b[43m\u001b[49m\u001b[43m)\u001b[49m\n\u001b[32m   1890\u001b[39m \u001b[38;5;28;01massert\u001b[39;00m \u001b[38;5;28mself\u001b[39m.handles \u001b[38;5;129;01mis\u001b[39;00m \u001b[38;5;129;01mnot\u001b[39;00m \u001b[38;5;28;01mNone\u001b[39;00m\n\u001b[32m   1891\u001b[39m f = \u001b[38;5;28mself\u001b[39m.handles.handle\n",
      "\u001b[36mFile \u001b[39m\u001b[32m/opt/miniconda3/envs/bw25/lib/python3.12/site-packages/pandas/io/common.py:873\u001b[39m, in \u001b[36mget_handle\u001b[39m\u001b[34m(path_or_buf, mode, encoding, compression, memory_map, is_text, errors, storage_options)\u001b[39m\n\u001b[32m    868\u001b[39m \u001b[38;5;28;01melif\u001b[39;00m \u001b[38;5;28misinstance\u001b[39m(handle, \u001b[38;5;28mstr\u001b[39m):\n\u001b[32m    869\u001b[39m     \u001b[38;5;66;03m# Check whether the filename is to be opened in binary mode.\u001b[39;00m\n\u001b[32m    870\u001b[39m     \u001b[38;5;66;03m# Binary mode does not support 'encoding' and 'newline'.\u001b[39;00m\n\u001b[32m    871\u001b[39m     \u001b[38;5;28;01mif\u001b[39;00m ioargs.encoding \u001b[38;5;129;01mand\u001b[39;00m \u001b[33m\"\u001b[39m\u001b[33mb\u001b[39m\u001b[33m\"\u001b[39m \u001b[38;5;129;01mnot\u001b[39;00m \u001b[38;5;129;01min\u001b[39;00m ioargs.mode:\n\u001b[32m    872\u001b[39m         \u001b[38;5;66;03m# Encoding\u001b[39;00m\n\u001b[32m--> \u001b[39m\u001b[32m873\u001b[39m         handle = \u001b[38;5;28;43mopen\u001b[39;49m\u001b[43m(\u001b[49m\n\u001b[32m    874\u001b[39m \u001b[43m            \u001b[49m\u001b[43mhandle\u001b[49m\u001b[43m,\u001b[49m\n\u001b[32m    875\u001b[39m \u001b[43m            \u001b[49m\u001b[43mioargs\u001b[49m\u001b[43m.\u001b[49m\u001b[43mmode\u001b[49m\u001b[43m,\u001b[49m\n\u001b[32m    876\u001b[39m \u001b[43m            \u001b[49m\u001b[43mencoding\u001b[49m\u001b[43m=\u001b[49m\u001b[43mioargs\u001b[49m\u001b[43m.\u001b[49m\u001b[43mencoding\u001b[49m\u001b[43m,\u001b[49m\n\u001b[32m    877\u001b[39m \u001b[43m            \u001b[49m\u001b[43merrors\u001b[49m\u001b[43m=\u001b[49m\u001b[43merrors\u001b[49m\u001b[43m,\u001b[49m\n\u001b[32m    878\u001b[39m \u001b[43m            \u001b[49m\u001b[43mnewline\u001b[49m\u001b[43m=\u001b[49m\u001b[33;43m\"\u001b[39;49m\u001b[33;43m\"\u001b[39;49m\u001b[43m,\u001b[49m\n\u001b[32m    879\u001b[39m \u001b[43m        \u001b[49m\u001b[43m)\u001b[49m\n\u001b[32m    880\u001b[39m     \u001b[38;5;28;01melse\u001b[39;00m:\n\u001b[32m    881\u001b[39m         \u001b[38;5;66;03m# Binary mode\u001b[39;00m\n\u001b[32m    882\u001b[39m         handle = \u001b[38;5;28mopen\u001b[39m(handle, ioargs.mode)\n",
      "\u001b[31mFileNotFoundError\u001b[39m: [Errno 2] No such file or directory: '/Users/bp45th/Documents/github/Revealed-Comparative-Advantage-Calculator/results_new/xij.csv'"
     ]
    }
   ],
   "source": [
    "file_path_list = [f\"{os.getcwd()}/xij.csv\", \n",
    "                      f\"{os.getcwd()}/xin.csv\", \n",
    "                      f\"{os.getcwd()}/xwj.csv\", \n",
    "                      f\"{os.getcwd()}/xwn.csv\"]\n",
    "    \n",
    "max_workers = os.cpu_count() * 2 if os.cpu_count() else 4 \n",
    "with ThreadPoolExecutor(max_workers=max_workers) as executor:\n",
    "    futures = {executor.submit(parallel.run_rca, val, file_path_list): val for val in VAL}\n",
    "    \n",
    "    dfs = [pd.read_csv(f\"{os.getcwd()}/xij.csv\", dtype={'Year': int, 'Importer': int, 'Exporter': int}).iloc[:, :4]]\n",
    "    for future in as_completed(futures):\n",
    "        df = future.result()\n",
    "        dfs.append(df)\n",
    "\n",
    "final_df = pd.concat(dfs, axis=1)\n",
    "final_df.to_csv(\"rca.csv\", index=False)"
   ]
  }
 ],
 "metadata": {
  "kernelspec": {
   "display_name": "bw25",
   "language": "python",
   "name": "python3"
  },
  "language_info": {
   "codemirror_mode": {
    "name": "ipython",
    "version": 3
   },
   "file_extension": ".py",
   "mimetype": "text/x-python",
   "name": "python",
   "nbconvert_exporter": "python",
   "pygments_lexer": "ipython3",
   "version": "3.12.9"
  }
 },
 "nbformat": 4,
 "nbformat_minor": 5
}
